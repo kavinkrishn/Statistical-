{
 "cells": [
  {
   "cell_type": "markdown",
   "metadata": {},
   "source": [
    "# ANOVA & ANCOVA"
   ]
  },
  {
   "cell_type": "code",
   "execution_count": 2,
   "metadata": {},
   "outputs": [],
   "source": [
    "# Analysis of Variant\n",
    "# Analysis of covariant"
   ]
  },
  {
   "cell_type": "code",
   "execution_count": 3,
   "metadata": {},
   "outputs": [],
   "source": [
    "# Anova = dependent variable - continous, independent variable - categorical\n",
    "# Ancova = dependent variable- continous, independent variable - categorical,contious"
   ]
  },
  {
   "cell_type": "code",
   "execution_count": 4,
   "metadata": {},
   "outputs": [],
   "source": [
    "import pandas as pd"
   ]
  },
  {
   "cell_type": "code",
   "execution_count": 5,
   "metadata": {},
   "outputs": [],
   "source": [
    "df = pd.read_excel(\"D:\\\\ML\\\\dataset\\\\ANCOVA1.xlsx\")"
   ]
  },
  {
   "cell_type": "code",
   "execution_count": 6,
   "metadata": {},
   "outputs": [
    {
     "data": {
      "text/html": [
       "<div>\n",
       "<style scoped>\n",
       "    .dataframe tbody tr th:only-of-type {\n",
       "        vertical-align: middle;\n",
       "    }\n",
       "\n",
       "    .dataframe tbody tr th {\n",
       "        vertical-align: top;\n",
       "    }\n",
       "\n",
       "    .dataframe thead th {\n",
       "        text-align: right;\n",
       "    }\n",
       "</style>\n",
       "<table border=\"1\" class=\"dataframe\">\n",
       "  <thead>\n",
       "    <tr style=\"text-align: right;\">\n",
       "      <th></th>\n",
       "      <th>Store Number</th>\n",
       "      <th>Sales</th>\n",
       "      <th>Promotion</th>\n",
       "      <th>Coupon</th>\n",
       "      <th>ClietelRatings</th>\n",
       "    </tr>\n",
       "  </thead>\n",
       "  <tbody>\n",
       "    <tr>\n",
       "      <th>0</th>\n",
       "      <td>1</td>\n",
       "      <td>10</td>\n",
       "      <td>1</td>\n",
       "      <td>1</td>\n",
       "      <td>9</td>\n",
       "    </tr>\n",
       "    <tr>\n",
       "      <th>1</th>\n",
       "      <td>2</td>\n",
       "      <td>9</td>\n",
       "      <td>1</td>\n",
       "      <td>1</td>\n",
       "      <td>10</td>\n",
       "    </tr>\n",
       "    <tr>\n",
       "      <th>2</th>\n",
       "      <td>3</td>\n",
       "      <td>10</td>\n",
       "      <td>1</td>\n",
       "      <td>1</td>\n",
       "      <td>8</td>\n",
       "    </tr>\n",
       "    <tr>\n",
       "      <th>3</th>\n",
       "      <td>4</td>\n",
       "      <td>8</td>\n",
       "      <td>1</td>\n",
       "      <td>1</td>\n",
       "      <td>4</td>\n",
       "    </tr>\n",
       "    <tr>\n",
       "      <th>4</th>\n",
       "      <td>5</td>\n",
       "      <td>9</td>\n",
       "      <td>1</td>\n",
       "      <td>1</td>\n",
       "      <td>6</td>\n",
       "    </tr>\n",
       "  </tbody>\n",
       "</table>\n",
       "</div>"
      ],
      "text/plain": [
       "   Store Number  Sales  Promotion  Coupon  ClietelRatings\n",
       "0             1     10          1       1               9\n",
       "1             2      9          1       1              10\n",
       "2             3     10          1       1               8\n",
       "3             4      8          1       1               4\n",
       "4             5      9          1       1               6"
      ]
     },
     "execution_count": 6,
     "metadata": {},
     "output_type": "execute_result"
    }
   ],
   "source": [
    "df.head()"
   ]
  },
  {
   "cell_type": "code",
   "execution_count": 7,
   "metadata": {},
   "outputs": [],
   "source": [
    "import statsmodels.api as sm"
   ]
  },
  {
   "cell_type": "markdown",
   "metadata": {},
   "source": [
    "## One way Anova\n",
    "dependent varaible is contious and independent variable is categorical"
   ]
  },
  {
   "cell_type": "code",
   "execution_count": 8,
   "metadata": {},
   "outputs": [],
   "source": [
    "from statsmodels.formula.api import ols   # Ordinary Least Square"
   ]
  },
  {
   "cell_type": "code",
   "execution_count": 10,
   "metadata": {},
   "outputs": [],
   "source": [
    "model = ols('Sales~C(Promotion)',df).fit()   # model creation"
   ]
  },
  {
   "cell_type": "code",
   "execution_count": 11,
   "metadata": {},
   "outputs": [],
   "source": [
    "oneway = sm.stats.anova_lm(model,typ=2)   # typ=1 - regression,typ =2 - anova,ancova,typ=3 - descriminal"
   ]
  },
  {
   "cell_type": "code",
   "execution_count": 12,
   "metadata": {},
   "outputs": [
    {
     "name": "stdout",
     "output_type": "stream",
     "text": [
      "                  sum_sq    df          F    PR(>F)\n",
      "C(Promotion)  106.066667   2.0  17.943609  0.000011\n",
      "Residual       79.800000  27.0        NaN       NaN\n"
     ]
    }
   ],
   "source": [
    "print(oneway)"
   ]
  },
  {
   "cell_type": "code",
   "execution_count": 13,
   "metadata": {},
   "outputs": [],
   "source": [
    "## if promotion there is significatly impact on sales p<0.05,we reject H0"
   ]
  },
  {
   "cell_type": "markdown",
   "metadata": {},
   "source": [
    "## Two way Anova\n",
    "when the dependent variable is continous and independent variable is categorical we have two independent variables"
   ]
  },
  {
   "cell_type": "code",
   "execution_count": 14,
   "metadata": {},
   "outputs": [],
   "source": [
    "model = ols('Sales~C(Promotion)+C(Coupon)',df).fit()"
   ]
  },
  {
   "cell_type": "code",
   "execution_count": 15,
   "metadata": {},
   "outputs": [],
   "source": [
    "twoway = sm.stats.anova_lm(model,typ=2)"
   ]
  },
  {
   "cell_type": "code",
   "execution_count": 16,
   "metadata": {},
   "outputs": [
    {
     "name": "stdout",
     "output_type": "stream",
     "text": [
      "                  sum_sq    df          F        PR(>F)\n",
      "C(Promotion)  106.066667   2.0  52.098237  8.032739e-10\n",
      "C(Coupon)      53.333333   1.0  52.392947  1.095036e-07\n",
      "Residual       26.466667  26.0        NaN           NaN\n"
     ]
    }
   ],
   "source": [
    "print(twoway)"
   ]
  },
  {
   "cell_type": "code",
   "execution_count": 17,
   "metadata": {},
   "outputs": [],
   "source": [
    "## If p vales is less than 0.05 so reject H0. there is significant impact in promotion and coupon"
   ]
  },
  {
   "cell_type": "markdown",
   "metadata": {},
   "source": [
    "# ANCOVA\n",
    "analysis of covariant - dependent variable -contionus and independent variable - categorical and contionus"
   ]
  },
  {
   "cell_type": "code",
   "execution_count": 18,
   "metadata": {},
   "outputs": [],
   "source": [
    "model = ols('Sales~C(Promotion)+C(Coupon)+C(ClietelRatings)',df).fit()"
   ]
  },
  {
   "cell_type": "code",
   "execution_count": 20,
   "metadata": {},
   "outputs": [],
   "source": [
    "ancova = sm.stats.anova_lm(model,typ=2)"
   ]
  },
  {
   "cell_type": "code",
   "execution_count": 21,
   "metadata": {},
   "outputs": [
    {
     "name": "stdout",
     "output_type": "stream",
     "text": [
      "                       sum_sq    df          F        PR(>F)\n",
      "C(Promotion)       106.066667   2.0  50.875000  5.605989e-09\n",
      "C(Coupon)           53.333333   1.0  51.162791  3.592805e-07\n",
      "C(ClietelRatings)    3.533333   4.0   0.847384  5.103673e-01\n",
      "Residual            22.933333  22.0        NaN           NaN\n"
     ]
    }
   ],
   "source": [
    "print(ancova)"
   ]
  },
  {
   "cell_type": "code",
   "execution_count": 22,
   "metadata": {},
   "outputs": [],
   "source": [
    "## if p value is less than 0.05 so reject H0, there is significat impact on promotion,coupon,clietelrating for sales"
   ]
  },
  {
   "cell_type": "markdown",
   "metadata": {},
   "source": [
    "## How to calculate Eta2 values"
   ]
  },
  {
   "cell_type": "code",
   "execution_count": 25,
   "metadata": {},
   "outputs": [],
   "source": [
    "def anova_table(oneway):\n",
    "    oneway['eta_sq'] = oneway[:-1]['sum_sq']/sum(oneway['sum_sq'])\n",
    "    cols = ['sum_sq','df','F','PR(>F)','eta_sq']\n",
    "    oneway = oneway[cols]\n",
    "    return oneway"
   ]
  },
  {
   "cell_type": "code",
   "execution_count": 26,
   "metadata": {},
   "outputs": [
    {
     "data": {
      "text/html": [
       "<div>\n",
       "<style scoped>\n",
       "    .dataframe tbody tr th:only-of-type {\n",
       "        vertical-align: middle;\n",
       "    }\n",
       "\n",
       "    .dataframe tbody tr th {\n",
       "        vertical-align: top;\n",
       "    }\n",
       "\n",
       "    .dataframe thead th {\n",
       "        text-align: right;\n",
       "    }\n",
       "</style>\n",
       "<table border=\"1\" class=\"dataframe\">\n",
       "  <thead>\n",
       "    <tr style=\"text-align: right;\">\n",
       "      <th></th>\n",
       "      <th>sum_sq</th>\n",
       "      <th>df</th>\n",
       "      <th>F</th>\n",
       "      <th>PR(&gt;F)</th>\n",
       "      <th>eta_sq</th>\n",
       "    </tr>\n",
       "  </thead>\n",
       "  <tbody>\n",
       "    <tr>\n",
       "      <th>C(Promotion)</th>\n",
       "      <td>106.066667</td>\n",
       "      <td>2.0</td>\n",
       "      <td>17.943609</td>\n",
       "      <td>0.000011</td>\n",
       "      <td>0.57066</td>\n",
       "    </tr>\n",
       "    <tr>\n",
       "      <th>Residual</th>\n",
       "      <td>79.800000</td>\n",
       "      <td>27.0</td>\n",
       "      <td>NaN</td>\n",
       "      <td>NaN</td>\n",
       "      <td>NaN</td>\n",
       "    </tr>\n",
       "  </tbody>\n",
       "</table>\n",
       "</div>"
      ],
      "text/plain": [
       "                  sum_sq    df          F    PR(>F)   eta_sq\n",
       "C(Promotion)  106.066667   2.0  17.943609  0.000011  0.57066\n",
       "Residual       79.800000  27.0        NaN       NaN      NaN"
      ]
     },
     "execution_count": 26,
     "metadata": {},
     "output_type": "execute_result"
    }
   ],
   "source": [
    "anova_table(oneway)"
   ]
  },
  {
   "cell_type": "code",
   "execution_count": 27,
   "metadata": {},
   "outputs": [
    {
     "data": {
      "text/html": [
       "<div>\n",
       "<style scoped>\n",
       "    .dataframe tbody tr th:only-of-type {\n",
       "        vertical-align: middle;\n",
       "    }\n",
       "\n",
       "    .dataframe tbody tr th {\n",
       "        vertical-align: top;\n",
       "    }\n",
       "\n",
       "    .dataframe thead th {\n",
       "        text-align: right;\n",
       "    }\n",
       "</style>\n",
       "<table border=\"1\" class=\"dataframe\">\n",
       "  <thead>\n",
       "    <tr style=\"text-align: right;\">\n",
       "      <th></th>\n",
       "      <th>sum_sq</th>\n",
       "      <th>df</th>\n",
       "      <th>F</th>\n",
       "      <th>PR(&gt;F)</th>\n",
       "      <th>eta_sq</th>\n",
       "    </tr>\n",
       "  </thead>\n",
       "  <tbody>\n",
       "    <tr>\n",
       "      <th>C(Promotion)</th>\n",
       "      <td>106.066667</td>\n",
       "      <td>2.0</td>\n",
       "      <td>52.098237</td>\n",
       "      <td>8.032739e-10</td>\n",
       "      <td>0.570660</td>\n",
       "    </tr>\n",
       "    <tr>\n",
       "      <th>C(Coupon)</th>\n",
       "      <td>53.333333</td>\n",
       "      <td>1.0</td>\n",
       "      <td>52.392947</td>\n",
       "      <td>1.095036e-07</td>\n",
       "      <td>0.286944</td>\n",
       "    </tr>\n",
       "    <tr>\n",
       "      <th>Residual</th>\n",
       "      <td>26.466667</td>\n",
       "      <td>26.0</td>\n",
       "      <td>NaN</td>\n",
       "      <td>NaN</td>\n",
       "      <td>NaN</td>\n",
       "    </tr>\n",
       "  </tbody>\n",
       "</table>\n",
       "</div>"
      ],
      "text/plain": [
       "                  sum_sq    df          F        PR(>F)    eta_sq\n",
       "C(Promotion)  106.066667   2.0  52.098237  8.032739e-10  0.570660\n",
       "C(Coupon)      53.333333   1.0  52.392947  1.095036e-07  0.286944\n",
       "Residual       26.466667  26.0        NaN           NaN       NaN"
      ]
     },
     "execution_count": 27,
     "metadata": {},
     "output_type": "execute_result"
    }
   ],
   "source": [
    "anova_table(twoway)"
   ]
  },
  {
   "cell_type": "code",
   "execution_count": 28,
   "metadata": {},
   "outputs": [
    {
     "data": {
      "text/html": [
       "<div>\n",
       "<style scoped>\n",
       "    .dataframe tbody tr th:only-of-type {\n",
       "        vertical-align: middle;\n",
       "    }\n",
       "\n",
       "    .dataframe tbody tr th {\n",
       "        vertical-align: top;\n",
       "    }\n",
       "\n",
       "    .dataframe thead th {\n",
       "        text-align: right;\n",
       "    }\n",
       "</style>\n",
       "<table border=\"1\" class=\"dataframe\">\n",
       "  <thead>\n",
       "    <tr style=\"text-align: right;\">\n",
       "      <th></th>\n",
       "      <th>sum_sq</th>\n",
       "      <th>df</th>\n",
       "      <th>F</th>\n",
       "      <th>PR(&gt;F)</th>\n",
       "      <th>eta_sq</th>\n",
       "    </tr>\n",
       "  </thead>\n",
       "  <tbody>\n",
       "    <tr>\n",
       "      <th>C(Promotion)</th>\n",
       "      <td>106.066667</td>\n",
       "      <td>2.0</td>\n",
       "      <td>50.875000</td>\n",
       "      <td>5.605989e-09</td>\n",
       "      <td>0.570660</td>\n",
       "    </tr>\n",
       "    <tr>\n",
       "      <th>C(Coupon)</th>\n",
       "      <td>53.333333</td>\n",
       "      <td>1.0</td>\n",
       "      <td>51.162791</td>\n",
       "      <td>3.592805e-07</td>\n",
       "      <td>0.286944</td>\n",
       "    </tr>\n",
       "    <tr>\n",
       "      <th>C(ClietelRatings)</th>\n",
       "      <td>3.533333</td>\n",
       "      <td>4.0</td>\n",
       "      <td>0.847384</td>\n",
       "      <td>5.103673e-01</td>\n",
       "      <td>0.019010</td>\n",
       "    </tr>\n",
       "    <tr>\n",
       "      <th>Residual</th>\n",
       "      <td>22.933333</td>\n",
       "      <td>22.0</td>\n",
       "      <td>NaN</td>\n",
       "      <td>NaN</td>\n",
       "      <td>NaN</td>\n",
       "    </tr>\n",
       "  </tbody>\n",
       "</table>\n",
       "</div>"
      ],
      "text/plain": [
       "                       sum_sq    df          F        PR(>F)    eta_sq\n",
       "C(Promotion)       106.066667   2.0  50.875000  5.605989e-09  0.570660\n",
       "C(Coupon)           53.333333   1.0  51.162791  3.592805e-07  0.286944\n",
       "C(ClietelRatings)    3.533333   4.0   0.847384  5.103673e-01  0.019010\n",
       "Residual            22.933333  22.0        NaN           NaN       NaN"
      ]
     },
     "execution_count": 28,
     "metadata": {},
     "output_type": "execute_result"
    }
   ],
   "source": [
    "anova_table(ancova)"
   ]
  },
  {
   "cell_type": "code",
   "execution_count": null,
   "metadata": {},
   "outputs": [],
   "source": []
  }
 ],
 "metadata": {
  "kernelspec": {
   "display_name": "Python 3",
   "language": "python",
   "name": "python3"
  },
  "language_info": {
   "codemirror_mode": {
    "name": "ipython",
    "version": 3
   },
   "file_extension": ".py",
   "mimetype": "text/x-python",
   "name": "python",
   "nbconvert_exporter": "python",
   "pygments_lexer": "ipython3",
   "version": "3.7.6"
  }
 },
 "nbformat": 4,
 "nbformat_minor": 4
}
